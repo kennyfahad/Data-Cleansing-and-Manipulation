{
 "cells": [
  {
   "cell_type": "markdown",
   "id": "471cc32c",
   "metadata": {},
   "source": [
    "# About Dataset\n",
    "The sample 2013 dataset consists of 481 records of NBA players and contains the following details:\n",
    "\n",
    "'player', 'pos', 'age', 'team', 'g', 'gs', 'mp', 'fg', 'fga', 'fg.', 'x3p', 'x3pa', 'x3p.', 'x2p', 'x2pa', 'x2p.', 'efg.', 'ft', 'fta', 'ft.', 'orb', 'drb', 'trb', 'ast', 'stl', 'blk', 'tov', 'pf', 'pts', 'season', 'season_end'\n",
    "\n",
    "# Problem Statement\n",
    "* To define different classes for this particular dataset which will be used for various analytics and data manipulation \n"
   ]
  },
  {
   "cell_type": "markdown",
   "id": "e695a9b4",
   "metadata": {},
   "source": [
    "# Import Library"
   ]
  },
  {
   "cell_type": "code",
   "execution_count": 1,
   "id": "09f62788",
   "metadata": {},
   "outputs": [],
   "source": [
    "import csv"
   ]
  },
  {
   "cell_type": "markdown",
   "id": "16f774d6",
   "metadata": {},
   "source": [
    "# Loading Dataset"
   ]
  },
  {
   "cell_type": "code",
   "execution_count": 2,
   "id": "a70b838a",
   "metadata": {},
   "outputs": [],
   "source": [
    "nba = list(csv.reader(open(\"nba.csv\")))"
   ]
  },
  {
   "cell_type": "code",
   "execution_count": 3,
   "id": "a0854b17",
   "metadata": {},
   "outputs": [],
   "source": [
    "headers = nba[0]\n",
    "nba = nba[1:]"
   ]
  },
  {
   "cell_type": "code",
   "execution_count": 4,
   "id": "70348cf3",
   "metadata": {},
   "outputs": [
    {
     "name": "stdout",
     "output_type": "stream",
     "text": [
      "['player', 'pos', 'age', 'team', 'g', 'gs', 'mp', 'fg', 'fga', 'fg.', 'x3p', 'x3pa', 'x3p.', 'x2p', 'x2pa', 'x2p.', 'efg.', 'ft', 'fta', 'ft.', 'orb', 'drb', 'trb', 'ast', 'stl', 'blk', 'tov', 'pf', 'pts', 'season', 'season_end']\n",
      "\n",
      "[['Quincy Acy', 'SF', '23', 'TOT', '63', '0', '847', '66', '141', '0.468', '4', '15', '0.266666666666667', '62', '126', '0.492063492063492', '0.482', '35', '53', '0.66', '72', '144', '216', '28', '23', '26', '30', '122', '171', '2013-2014', '2013'], ['Steven Adams', 'C', '20', 'Oklahoma City Thunder', '81', '20', '1197', '93', '185', '0.503', '0', '0', 'NA', '93', '185', '0.502702702702703', '0.503', '79', '136', '0.581', '142', '190', '332', '43', '40', '57', '71', '203', '265', '2013-2014', '2013'], ['Jeff Adrien', 'PF', '27', 'TOT', '53', '12', '961', '143', '275', '0.52', '0', '0', 'NA', '143', '275', '0.52', '0.52', '76', '119', '0.639', '102', '204', '306', '38', '24', '36', '39', '108', '362', '2013-2014', '2013']]\n"
     ]
    }
   ],
   "source": [
    "print(headers)\n",
    "print()\n",
    "print(nba[:3])"
   ]
  },
  {
   "cell_type": "markdown",
   "id": "0bc7dd52",
   "metadata": {},
   "source": [
    "# Defining Class for Player"
   ]
  },
  {
   "cell_type": "code",
   "execution_count": 5,
   "id": "5d6e3edd",
   "metadata": {},
   "outputs": [],
   "source": [
    "class Player():\n",
    "    def __init__(self, row): # construtor, dunder method\n",
    "        self.player_name =row[0]\n",
    "        self.position =row[1]\n",
    "        self.age =int(row[2])\n",
    "        self.team =row[3]"
   ]
  },
  {
   "cell_type": "markdown",
   "id": "628a7319",
   "metadata": {},
   "source": [
    "## To get full name of player use `.player_name` "
   ]
  },
  {
   "cell_type": "code",
   "execution_count": 6,
   "id": "029eb735",
   "metadata": {},
   "outputs": [],
   "source": [
    "ff_info = Player(nba[55])"
   ]
  },
  {
   "cell_type": "code",
   "execution_count": 7,
   "id": "85d8a7e7",
   "metadata": {},
   "outputs": [
    {
     "data": {
      "text/plain": [
       "'Andrew Bogut'"
      ]
     },
     "execution_count": 7,
     "metadata": {},
     "output_type": "execute_result"
    }
   ],
   "source": [
    "ff_info.player_name"
   ]
  },
  {
   "cell_type": "markdown",
   "id": "e7affe12",
   "metadata": {},
   "source": [
    "## To get playing position of player use `.position` "
   ]
  },
  {
   "cell_type": "code",
   "execution_count": 8,
   "id": "3833ab36",
   "metadata": {},
   "outputs": [
    {
     "data": {
      "text/plain": [
       "'C'"
      ]
     },
     "execution_count": 8,
     "metadata": {},
     "output_type": "execute_result"
    }
   ],
   "source": [
    "ff_info.position"
   ]
  },
  {
   "cell_type": "markdown",
   "id": "83f24966",
   "metadata": {},
   "source": [
    "## To get name of player's team use `.team`"
   ]
  },
  {
   "cell_type": "code",
   "execution_count": 9,
   "id": "d8837557",
   "metadata": {},
   "outputs": [
    {
     "data": {
      "text/plain": [
       "'Golden State Warriors'"
      ]
     },
     "execution_count": 9,
     "metadata": {},
     "output_type": "execute_result"
    }
   ],
   "source": [
    "ff_info.team"
   ]
  },
  {
   "cell_type": "markdown",
   "id": "ef7ab463",
   "metadata": {},
   "source": [
    "## To get age of player use `.age`  "
   ]
  },
  {
   "cell_type": "code",
   "execution_count": 10,
   "id": "a3739abe",
   "metadata": {},
   "outputs": [
    {
     "data": {
      "text/plain": [
       "29"
      ]
     },
     "execution_count": 10,
     "metadata": {},
     "output_type": "execute_result"
    }
   ],
   "source": [
    "ff_info.age"
   ]
  },
  {
   "cell_type": "markdown",
   "id": "7f840fda",
   "metadata": {},
   "source": [
    "# Defining Class for Team"
   ]
  },
  {
   "cell_type": "code",
   "execution_count": 11,
   "id": "88a104fc",
   "metadata": {},
   "outputs": [],
   "source": [
    "class Team():\n",
    "    def __init__(self, team_name):\n",
    "        self.name =team_name"
   ]
  },
  {
   "cell_type": "code",
   "execution_count": 12,
   "id": "cc53823b",
   "metadata": {},
   "outputs": [],
   "source": [
    "gsw = Team('Golden State Warriors')"
   ]
  },
  {
   "cell_type": "code",
   "execution_count": 13,
   "id": "d894fa5a",
   "metadata": {},
   "outputs": [
    {
     "data": {
      "text/plain": [
       "'Golden State Warriors'"
      ]
     },
     "execution_count": 13,
     "metadata": {},
     "output_type": "execute_result"
    }
   ],
   "source": [
    "gsw.name"
   ]
  },
  {
   "cell_type": "code",
   "execution_count": 14,
   "id": "b3b7b6ab",
   "metadata": {},
   "outputs": [],
   "source": [
    "class Team():\n",
    "    def __init__(self, team_name):\n",
    "        self.name =team_name\n",
    "        self.info = []\n",
    "        for row in nba:\n",
    "            if row[3] == self.name:\n",
    "                self.info.append(Player(row))"
   ]
  },
  {
   "cell_type": "code",
   "execution_count": 15,
   "id": "91e0645e",
   "metadata": {},
   "outputs": [],
   "source": [
    "lal = Team('Los Angeles Lakers')"
   ]
  },
  {
   "cell_type": "code",
   "execution_count": 16,
   "id": "fa00aeed",
   "metadata": {},
   "outputs": [
    {
     "data": {
      "text/plain": [
       "'Los Angeles Lakers'"
      ]
     },
     "execution_count": 16,
     "metadata": {},
     "output_type": "execute_result"
    }
   ],
   "source": [
    "lal.name"
   ]
  },
  {
   "cell_type": "code",
   "execution_count": 17,
   "id": "1a490b3d",
   "metadata": {},
   "outputs": [
    {
     "data": {
      "text/plain": [
       "16"
      ]
     },
     "execution_count": 17,
     "metadata": {},
     "output_type": "execute_result"
    }
   ],
   "source": [
    "len(lal.info)"
   ]
  },
  {
   "cell_type": "code",
   "execution_count": 18,
   "id": "931b5fc8",
   "metadata": {},
   "outputs": [
    {
     "data": {
      "text/plain": [
       "12"
      ]
     },
     "execution_count": 18,
     "metadata": {},
     "output_type": "execute_result"
    }
   ],
   "source": [
    "len(Team('Golden State Warriors').info)"
   ]
  },
  {
   "cell_type": "code",
   "execution_count": 19,
   "id": "df68fcdb",
   "metadata": {},
   "outputs": [],
   "source": [
    "lal_data = lal.info"
   ]
  },
  {
   "cell_type": "code",
   "execution_count": 20,
   "id": "15260f71",
   "metadata": {},
   "outputs": [
    {
     "name": "stdout",
     "output_type": "stream",
     "text": [
      "Kobe Bryant\n",
      "Jordan Farmar\n",
      "Pau Gasol\n",
      "Elias Harris\n",
      "Manny Harris\n",
      "Xavier Henry\n",
      "Jordan Hill\n",
      "Wesley Johnson\n",
      "Chris Kaman\n",
      "Ryan Kelly\n",
      "Kendall Marshall\n",
      "Jodie Meeks\n",
      "Steve Nash\n",
      "Robert Sacre\n",
      "Shawne Williams\n",
      "Nick Young\n"
     ]
    }
   ],
   "source": [
    "for ins in lal_data:\n",
    "    print(ins.player_name)"
   ]
  },
  {
   "cell_type": "markdown",
   "id": "ea570073",
   "metadata": {},
   "source": [
    "## Get Players information in a Team"
   ]
  },
  {
   "cell_type": "code",
   "execution_count": 21,
   "id": "5d19f599",
   "metadata": {},
   "outputs": [
    {
     "name": "stdout",
     "output_type": "stream",
     "text": [
      "Kobe Bryant\n",
      "SG\n",
      "35\n",
      "Los Angeles Lakers\n",
      "------------------------------\n",
      "Jordan Farmar\n",
      "PG\n",
      "27\n",
      "Los Angeles Lakers\n",
      "------------------------------\n",
      "Pau Gasol\n",
      "C\n",
      "33\n",
      "Los Angeles Lakers\n",
      "------------------------------\n",
      "Elias Harris\n",
      "SF\n",
      "24\n",
      "Los Angeles Lakers\n",
      "------------------------------\n",
      "Manny Harris\n",
      "SG\n",
      "24\n",
      "Los Angeles Lakers\n",
      "------------------------------\n",
      "Xavier Henry\n",
      "SF\n",
      "22\n",
      "Los Angeles Lakers\n",
      "------------------------------\n",
      "Jordan Hill\n",
      "PF\n",
      "26\n",
      "Los Angeles Lakers\n",
      "------------------------------\n",
      "Wesley Johnson\n",
      "SF\n",
      "26\n",
      "Los Angeles Lakers\n",
      "------------------------------\n",
      "Chris Kaman\n",
      "C\n",
      "31\n",
      "Los Angeles Lakers\n",
      "------------------------------\n",
      "Ryan Kelly\n",
      "PF\n",
      "22\n",
      "Los Angeles Lakers\n",
      "------------------------------\n",
      "Kendall Marshall\n",
      "PG\n",
      "22\n",
      "Los Angeles Lakers\n",
      "------------------------------\n",
      "Jodie Meeks\n",
      "SG\n",
      "26\n",
      "Los Angeles Lakers\n",
      "------------------------------\n",
      "Steve Nash\n",
      "PG\n",
      "39\n",
      "Los Angeles Lakers\n",
      "------------------------------\n",
      "Robert Sacre\n",
      "C\n",
      "24\n",
      "Los Angeles Lakers\n",
      "------------------------------\n",
      "Shawne Williams\n",
      "PF\n",
      "27\n",
      "Los Angeles Lakers\n",
      "------------------------------\n",
      "Nick Young\n",
      "SG\n",
      "28\n",
      "Los Angeles Lakers\n",
      "------------------------------\n"
     ]
    }
   ],
   "source": [
    "for ins in lal_data:\n",
    "    print(ins.player_name)\n",
    "    print(ins.position)\n",
    "    print(ins.age)\n",
    "    print(ins.team)\n",
    "    print(\"-\"*30)"
   ]
  },
  {
   "cell_type": "markdown",
   "id": "2de77da5",
   "metadata": {},
   "source": [
    "## Getting Teams"
   ]
  },
  {
   "cell_type": "code",
   "execution_count": 22,
   "id": "f666958e",
   "metadata": {},
   "outputs": [],
   "source": [
    "teams = []\n",
    "\n",
    "for row in nba:\n",
    "    teams.append(row[3])"
   ]
  },
  {
   "cell_type": "code",
   "execution_count": 23,
   "id": "26aa7c70",
   "metadata": {},
   "outputs": [],
   "source": [
    "team_names = list(set(teams))"
   ]
  },
  {
   "cell_type": "code",
   "execution_count": 24,
   "id": "53405be2",
   "metadata": {},
   "outputs": [
    {
     "name": "stdout",
     "output_type": "stream",
     "text": [
      "['Boston Celtics', 'Washington Wizards', 'Charlotte Hornets', 'Minnesota Timberwolves', 'Orlando Magic', 'Golden State Warriors', 'New Orleans Pelicans', 'Denver Nuggets', 'Los Angeles Clippers', 'Los Angeles Lakers', 'Miami Heat', 'Cleveland Cavaliers', 'Indiana Pacers', 'Philadelphia 76ers', 'Phoenix Suns', 'Toronto Raptors', 'New York Knicks', 'Atlanta Hawks', 'Sacramento Kings', 'Milwaukee Bucks', 'Memphis Grizzlies', 'Chicago Bulls', 'Utah Jazz', 'Houston Rockets', 'Detroit Pistons', 'Dallas Mavericks', 'TOT', 'Brooklyn Nets', 'Oklahoma City Thunder', 'San Antonio Spurs', 'Portland Trail Blazers']\n"
     ]
    }
   ],
   "source": [
    "print(team_names )"
   ]
  },
  {
   "cell_type": "code",
   "execution_count": 25,
   "id": "8a5e8c80",
   "metadata": {},
   "outputs": [
    {
     "name": "stdout",
     "output_type": "stream",
     "text": [
      "No. of Teams is 31\n"
     ]
    }
   ],
   "source": [
    "print('No. of Teams is', len(team_names))"
   ]
  },
  {
   "cell_type": "markdown",
   "id": "3845f386",
   "metadata": {},
   "source": [
    "## Getting no. of players in a team"
   ]
  },
  {
   "cell_type": "code",
   "execution_count": 26,
   "id": "cd0ca957",
   "metadata": {},
   "outputs": [],
   "source": [
    "class Team():\n",
    "    def __init__(self, team_name): # attribute, constructor,dunder\n",
    "        self.name =team_name\n",
    "        self.info = []\n",
    "        for row in nba:\n",
    "            if row[3] == self.name:\n",
    "                self.info.append(Player(row))\n",
    "                \n",
    "    def num_player(self): # Method\n",
    "        count = 0  # count = len(self.info)\n",
    "        for i in self.info:\n",
    "            count += 1\n",
    "        return count"
   ]
  },
  {
   "cell_type": "code",
   "execution_count": 27,
   "id": "b0d72cbe",
   "metadata": {},
   "outputs": [
    {
     "data": {
      "text/plain": [
       "16"
      ]
     },
     "execution_count": 27,
     "metadata": {},
     "output_type": "execute_result"
    }
   ],
   "source": [
    "Team('Los Angeles Lakers').num_player()"
   ]
  },
  {
   "cell_type": "code",
   "execution_count": 28,
   "id": "8dbcf722",
   "metadata": {},
   "outputs": [
    {
     "data": {
      "text/plain": [
       "12"
      ]
     },
     "execution_count": 28,
     "metadata": {},
     "output_type": "execute_result"
    }
   ],
   "source": [
    "Team('Golden State Warriors').num_player()"
   ]
  },
  {
   "cell_type": "markdown",
   "id": "02331422",
   "metadata": {},
   "source": [
    "## Getting Average age of players in a team"
   ]
  },
  {
   "cell_type": "code",
   "execution_count": 29,
   "id": "f92fe601",
   "metadata": {},
   "outputs": [],
   "source": [
    "class Player():\n",
    "    def __init__(self, row): # construtor, dunder method\n",
    "        self.player_name =row[0]\n",
    "        self.position =row[1]\n",
    "        self.age =int(row[2])\n",
    "        self.team =row[3]\n",
    "\n",
    "class Team():\n",
    "    def __init__(self, team_name): # attribute, constructor,dunder\n",
    "        self.name =team_name\n",
    "        self.info = []\n",
    "        for row in nba:\n",
    "            if row[3] == self.name:\n",
    "                self.info.append(Player(row))\n",
    "                \n",
    "    def num_player(self): # Method\n",
    "        count = 0  # count = len(self.info)\n",
    "        for i in self.info:\n",
    "            count += 1\n",
    "        return count\n",
    "    \n",
    "    def average_age(self):\n",
    "        total_ages = 0\n",
    "        for ins in self.info:\n",
    "            age = ins.age\n",
    "            total_ages += age\n",
    "            \n",
    "        avg = total_ages/self.num_player()\n",
    "        return round(avg)"
   ]
  },
  {
   "cell_type": "code",
   "execution_count": 30,
   "id": "f5da7a27",
   "metadata": {},
   "outputs": [
    {
     "data": {
      "text/plain": [
       "27"
      ]
     },
     "execution_count": 30,
     "metadata": {},
     "output_type": "execute_result"
    }
   ],
   "source": [
    "Team('Los Angeles Lakers').average_age()"
   ]
  },
  {
   "cell_type": "code",
   "execution_count": 31,
   "id": "34b12e79",
   "metadata": {},
   "outputs": [
    {
     "data": {
      "text/plain": [
       "26"
      ]
     },
     "execution_count": 31,
     "metadata": {},
     "output_type": "execute_result"
    }
   ],
   "source": [
    "Team('Golden State Warriors').average_age()"
   ]
  },
  {
   "cell_type": "markdown",
   "id": "4fc1b34e",
   "metadata": {},
   "source": [
    "### Getting comparison of teams in accordance with average age (Older/ Younger)"
   ]
  },
  {
   "cell_type": "code",
   "execution_count": 32,
   "id": "16b31ff1",
   "metadata": {},
   "outputs": [],
   "source": [
    "class Player():\n",
    "    def __init__(self, row): # construtor, dunder method\n",
    "        self.player_name =row[0]\n",
    "        self.position =row[1]\n",
    "        self.age =int(row[2])\n",
    "        self.team =row[3]\n",
    "\n",
    "class Team():\n",
    "    def __init__(self, team_name): # attribute, constructor,dunder\n",
    "        self.name =team_name\n",
    "        self.info = []\n",
    "        for row in nba:\n",
    "            if row[3] == self.name:\n",
    "                self.info.append(Player(row))\n",
    "                \n",
    "    def num_player(self): # Method\n",
    "        count = 0  # count = len(self.info)\n",
    "        for i in self.info:\n",
    "            count += 1\n",
    "        return count\n",
    "    \n",
    "    def average_age(self):\n",
    "        total_ages = 0\n",
    "        for ins in self.info:\n",
    "            age = ins.age\n",
    "            total_ages += age\n",
    "            \n",
    "        avg = total_ages/self.num_player()\n",
    "        return avg\n",
    "    \n",
    "    @classmethod # decorator\n",
    "    def older_team(self, team1, team2):\n",
    "        if team1.average_age()> team2.average_age():\n",
    "            print (team1.name, \"has older players\")\n",
    "        else:\n",
    "            print (team2.name, \"has older players\")"
   ]
  },
  {
   "cell_type": "code",
   "execution_count": 33,
   "id": "6be5caae",
   "metadata": {},
   "outputs": [
    {
     "name": "stdout",
     "output_type": "stream",
     "text": [
      "Dallas Mavericks has older players\n"
     ]
    }
   ],
   "source": [
    "result = Team.older_team(Team('Dallas Mavericks'), Team('Utah Jazz'))\n",
    "result"
   ]
  },
  {
   "cell_type": "code",
   "execution_count": null,
   "id": "f773c387",
   "metadata": {},
   "outputs": [],
   "source": []
  }
 ],
 "metadata": {
  "kernelspec": {
   "display_name": "Python 3 (ipykernel)",
   "language": "python",
   "name": "python3"
  },
  "language_info": {
   "codemirror_mode": {
    "name": "ipython",
    "version": 3
   },
   "file_extension": ".py",
   "mimetype": "text/x-python",
   "name": "python",
   "nbconvert_exporter": "python",
   "pygments_lexer": "ipython3",
   "version": "3.9.13"
  }
 },
 "nbformat": 4,
 "nbformat_minor": 5
}
