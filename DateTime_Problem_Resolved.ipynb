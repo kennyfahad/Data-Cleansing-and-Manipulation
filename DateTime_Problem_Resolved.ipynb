{
 "cells": [
  {
   "cell_type": "markdown",
   "id": "7fc16b6c",
   "metadata": {},
   "source": [
    "# About Dataset\n",
    "The dataset has been scraped from The White House Visitor Logs and has been simplified to contain only name,\tappt_made_date,\tappt_start_date,\tappt_end_date,\tvisitee_namelast,\tvisitee_namefirst,\tmeeting_room and\tdescription\n",
    "This is done to highlihgt and resolve only the datetime problem, which is one of the most prominent problems in datasets.I have used python's `datatime` module.\n",
    "The `datetime` module supplies classes for manipulating dates and times. While date and time arithmetic is supported, the focus of the implementation is on efficient attribute extraction for output formatting and manipulation.\n",
    "[Documentation](https://docs.python.org/3/library/datetime.html)\n",
    "\n",
    "### Problems to be resolved:\n",
    "* Extract date from the dataset for date when appointment was made `2014-12-18T00:00:00`\n",
    "* Extract date as well as time from appointment start `1/6/2015  9:30:00 AM`\n",
    "* Extract date and time from appointment end `1/6/2015  11:59:00 PM`\n",
    "\n",
    "The data then can be used to conduct data analytics on appointments with various officials in The White House. \n",
    "\n",
    "### Datetime Key\n",
    "The following datetime key is very helpful:\n",
    "* %d day in number\n",
    "* %A day in words\n",
    "* %a day in words but in aka\n",
    "* %m month in number\n",
    "* %B month in words\n",
    "* %b month in words but in aka\n",
    "* %Y year in 4 digits\n",
    "* %y year in 2 digits\n",
    "* %H  hours in 24 hours format\n",
    "* %I  hours in 12 hours format\n",
    "* %p am or pm\n",
    "* %M minutes \n",
    "* %S seconds"
   ]
  },
  {
   "cell_type": "markdown",
   "id": "43b488a0",
   "metadata": {},
   "source": [
    "## Importing Libraries"
   ]
  },
  {
   "cell_type": "code",
   "execution_count": 1,
   "id": "b4e67238",
   "metadata": {},
   "outputs": [],
   "source": [
    "import csv\n",
    "import datetime as dt"
   ]
  },
  {
   "cell_type": "markdown",
   "id": "e80e341b",
   "metadata": {},
   "source": [
    "## Importing Dataset"
   ]
  },
  {
   "cell_type": "code",
   "execution_count": 2,
   "id": "67fe8b55",
   "metadata": {},
   "outputs": [
    {
     "data": {
      "text/plain": [
       "['name',\n",
       " 'appt_made_date',\n",
       " 'appt_start_date',\n",
       " 'appt_end_date',\n",
       " 'visitee_namelast',\n",
       " 'visitee_namefirst',\n",
       " 'meeting_room',\n",
       " 'description']"
      ]
     },
     "execution_count": 2,
     "metadata": {},
     "output_type": "execute_result"
    }
   ],
   "source": [
    "potus = list(csv.reader(open(\"potus.csv\")))\n",
    "headers = potus[0]\n",
    "data = potus[1:]\n",
    "headers"
   ]
  },
  {
   "cell_type": "code",
   "execution_count": 3,
   "id": "b9b8f4b3",
   "metadata": {},
   "outputs": [
    {
     "name": "stdout",
     "output_type": "stream",
     "text": [
      "['Joshua T. Blanton', '2014-12-18T00:00:00', '1/6/2015 9:30', '1/6/2015 23:59', '', 'potus', 'west wing', 'JointService Military Honor Guard']\n"
     ]
    }
   ],
   "source": [
    "print(data[0])"
   ]
  },
  {
   "cell_type": "markdown",
   "id": "71c8b183",
   "metadata": {},
   "source": [
    "## Testing datetime module"
   ]
  },
  {
   "cell_type": "code",
   "execution_count": 4,
   "id": "22b9c588",
   "metadata": {},
   "outputs": [],
   "source": [
    "# The strptime() method creates a datetime object from the given string.\n",
    "dtime = dt.datetime.strptime('1/6/2015 9:30',\"%m/%d/%Y %H:%M\")"
   ]
  },
  {
   "cell_type": "code",
   "execution_count": 5,
   "id": "a0fd4b64",
   "metadata": {},
   "outputs": [
    {
     "name": "stdout",
     "output_type": "stream",
     "text": [
      "2015\n",
      "1\n",
      "6\n",
      "30\n",
      "9\n"
     ]
    }
   ],
   "source": [
    "print(dtime.year)\n",
    "print(dtime.month)\n",
    "print(dtime.day)\n",
    "print(dtime.minute)\n",
    "print(dtime.hour)"
   ]
  },
  {
   "cell_type": "markdown",
   "id": "61d0fecf",
   "metadata": {},
   "source": [
    "### Applying `.strptime()` to the dataset"
   ]
  },
  {
   "cell_type": "code",
   "execution_count": 6,
   "id": "3c8d69a5",
   "metadata": {},
   "outputs": [],
   "source": [
    "f = \"%m/%d/%Y %H:%M\"\n",
    "for i in data:\n",
    "    i[2] = dt.datetime.strptime(i[2],f)\n",
    "    i[3] = dt.datetime.strptime(i[3],f)"
   ]
  },
  {
   "cell_type": "code",
   "execution_count": 7,
   "id": "6dc87d04",
   "metadata": {},
   "outputs": [
    {
     "name": "stdout",
     "output_type": "stream",
     "text": [
      "['Joshua T. Blanton', '2014-12-18T00:00:00', datetime.datetime(2015, 1, 6, 9, 30), datetime.datetime(2015, 1, 6, 23, 59), '', 'potus', 'west wing', 'JointService Military Honor Guard']\n"
     ]
    }
   ],
   "source": [
    "print(data[0])"
   ]
  },
  {
   "cell_type": "code",
   "execution_count": 8,
   "id": "029fa9be",
   "metadata": {},
   "outputs": [],
   "source": [
    "start_time = []\n",
    "\n",
    "for i in data:\n",
    "    start_time.append(i[2])"
   ]
  },
  {
   "cell_type": "code",
   "execution_count": 9,
   "id": "4f3702e9",
   "metadata": {},
   "outputs": [
    {
     "data": {
      "text/plain": [
       "datetime.datetime(2015, 1, 6, 9, 30)"
      ]
     },
     "execution_count": 9,
     "metadata": {},
     "output_type": "execute_result"
    }
   ],
   "source": [
    "min(start_time)"
   ]
  },
  {
   "cell_type": "code",
   "execution_count": 10,
   "id": "2dca3970",
   "metadata": {},
   "outputs": [
    {
     "data": {
      "text/plain": [
       "datetime.datetime(2015, 12, 18, 16, 30)"
      ]
     },
     "execution_count": 10,
     "metadata": {},
     "output_type": "execute_result"
    }
   ],
   "source": [
    "max(start_time)"
   ]
  },
  {
   "cell_type": "markdown",
   "id": "00dac746",
   "metadata": {},
   "source": [
    "### Calculating monthly no. of meatings in dictionary"
   ]
  },
  {
   "cell_type": "code",
   "execution_count": 11,
   "id": "998f4200",
   "metadata": {},
   "outputs": [],
   "source": [
    "num_meeting = {}\n",
    "\n",
    "for i in data:\n",
    "    date = i[2].strftime(\"%B %Y\")  # data[0][2].strftime(\"%B %Y\")\n",
    "    if date not in num_meeting:\n",
    "        num_meeting[date] = 1\n",
    "    else:\n",
    "        num_meeting[date] += 1"
   ]
  },
  {
   "cell_type": "code",
   "execution_count": 12,
   "id": "f416a9aa",
   "metadata": {},
   "outputs": [
    {
     "name": "stdout",
     "output_type": "stream",
     "text": [
      "{'January 2015': 1248, 'February 2015': 2165, 'March 2015': 2262, 'April 2015': 4996, 'May 2015': 3013, 'June 2015': 7743, 'July 2015': 2930, 'August 2015': 1350, 'September 2015': 4416, 'October 2015': 3669, 'November 2015': 1133, 'December 2015': 13029}\n"
     ]
    }
   ],
   "source": [
    "print(num_meeting)"
   ]
  },
  {
   "cell_type": "markdown",
   "id": "3bacbbc1",
   "metadata": {},
   "source": [
    "#### Maxiumum no. of meetings"
   ]
  },
  {
   "cell_type": "code",
   "execution_count": 13,
   "id": "fd5bb591",
   "metadata": {},
   "outputs": [
    {
     "data": {
      "text/plain": [
       "'December 2015'"
      ]
     },
     "execution_count": 13,
     "metadata": {},
     "output_type": "execute_result"
    }
   ],
   "source": [
    "max(num_meeting, key = num_meeting.get)"
   ]
  },
  {
   "cell_type": "markdown",
   "id": "32d288e8",
   "metadata": {},
   "source": [
    "### Calculating appointment time"
   ]
  },
  {
   "cell_type": "code",
   "execution_count": 14,
   "id": "e0861e38",
   "metadata": {},
   "outputs": [],
   "source": [
    "time = []\n",
    "\n",
    "for i in data:\n",
    "\n",
    "    t = i[2].time()\n",
    "    time.append(t)"
   ]
  },
  {
   "cell_type": "code",
   "execution_count": 15,
   "id": "f1261441",
   "metadata": {},
   "outputs": [
    {
     "name": "stdout",
     "output_type": "stream",
     "text": [
      "Earliest meeting start time was 06:00:00\n"
     ]
    }
   ],
   "source": [
    "# Earliest start time of meeting\n",
    "print('Earliest meeting start time was', min(time))"
   ]
  },
  {
   "cell_type": "code",
   "execution_count": 16,
   "id": "593f1ec7",
   "metadata": {},
   "outputs": [
    {
     "name": "stdout",
     "output_type": "stream",
     "text": [
      "Last meeting of the day started at 21:30:00\n"
     ]
    }
   ],
   "source": [
    "# Last meeting in a dat start time\n",
    "print('Last meeting of the day started at', max(time))"
   ]
  },
  {
   "cell_type": "markdown",
   "id": "64ff7895",
   "metadata": {},
   "source": [
    "### Calculating duration of meetings"
   ]
  },
  {
   "cell_type": "code",
   "execution_count": 17,
   "id": "4552b6dd",
   "metadata": {},
   "outputs": [],
   "source": [
    "duration = []\n",
    "\n",
    "for i in data:\n",
    "    d= i[3]-i[2]\n",
    "    duration.append(d)"
   ]
  },
  {
   "cell_type": "code",
   "execution_count": 18,
   "id": "058fab7a",
   "metadata": {},
   "outputs": [
    {
     "name": "stdout",
     "output_type": "stream",
     "text": [
      "Minimum duration of meeting was 2:29:00\n"
     ]
    }
   ],
   "source": [
    "print('Minimum duration of meeting was', min(duration))"
   ]
  },
  {
   "cell_type": "code",
   "execution_count": 19,
   "id": "d16d6feb",
   "metadata": {},
   "outputs": [
    {
     "name": "stdout",
     "output_type": "stream",
     "text": [
      "Maximum duration of meeting was 16 days, 12:59:00\n"
     ]
    }
   ],
   "source": [
    "print('Maximum duration of meeting was', max(duration))"
   ]
  },
  {
   "cell_type": "markdown",
   "id": "6c564431",
   "metadata": {},
   "source": [
    "## Supplementary "
   ]
  },
  {
   "cell_type": "markdown",
   "id": "d2430fde",
   "metadata": {},
   "source": [
    "#### Using `datetime.timedelta()` function\n",
    "Python timedelta() function is present under datetime library which is generally used for calculating differences in dates and also can be used for date manipulations in Python. It is one of the easiest ways to perform date manipulations. "
   ]
  },
  {
   "cell_type": "code",
   "execution_count": 20,
   "id": "81845b58",
   "metadata": {},
   "outputs": [
    {
     "data": {
      "text/plain": [
       "datetime.datetime(2022, 2, 16, 0, 0)"
      ]
     },
     "execution_count": 20,
     "metadata": {},
     "output_type": "execute_result"
    }
   ],
   "source": [
    "dt.datetime.strptime(\"2/6/2022\", \"%m/%d/%Y\") +dt.timedelta(days = 10)"
   ]
  },
  {
   "cell_type": "code",
   "execution_count": 21,
   "id": "268ce36f",
   "metadata": {
    "scrolled": true
   },
   "outputs": [
    {
     "data": {
      "text/plain": [
       "datetime.datetime(2021, 10, 29, 0, 0)"
      ]
     },
     "execution_count": 21,
     "metadata": {},
     "output_type": "execute_result"
    }
   ],
   "source": [
    "dt.datetime.strptime(\"2/6/2022\", \"%m/%d/%Y\") - dt.timedelta(days = 100)"
   ]
  }
 ],
 "metadata": {
  "kernelspec": {
   "display_name": "Python 3 (ipykernel)",
   "language": "python",
   "name": "python3"
  },
  "language_info": {
   "codemirror_mode": {
    "name": "ipython",
    "version": 3
   },
   "file_extension": ".py",
   "mimetype": "text/x-python",
   "name": "python",
   "nbconvert_exporter": "python",
   "pygments_lexer": "ipython3",
   "version": "3.9.13"
  }
 },
 "nbformat": 4,
 "nbformat_minor": 5
}
